{
  "nbformat": 4,
  "nbformat_minor": 0,
  "metadata": {
    "colab": {
      "name": "Untitled3.ipynb",
      "provenance": [],
      "collapsed_sections": []
    },
    "kernelspec": {
      "name": "python3",
      "display_name": "Python 3"
    }
  },
  "cells": [
    {
      "cell_type": "code",
      "metadata": {
        "id": "-j2eI1h0RsNc"
      },
      "source": [
        "import scipy.io\r\n",
        "import math\r\n",
        "import numpy as np\r\n",
        "import pandas as pd\r\n",
        "from sklearn.metrics import accuracy_score\r\n",
        "from sklearn.metrics import confusion_matrix"
      ],
      "execution_count": 1,
      "outputs": []
    },
    {
      "cell_type": "markdown",
      "metadata": {
        "id": "KMcCdav6TCwk"
      },
      "source": [
        "Importing input file"
      ]
    },
    {
      "cell_type": "code",
      "metadata": {
        "id": "qF-GTMU6TJDn"
      },
      "source": [
        "data = scipy.io.loadmat('fashion_mnist.mat') \r\n",
        "Xtrain = data['trX']\r\n",
        "Ytrain = data['trY']\r\n",
        "xtrain_df = pd.DataFrame(Xtrain)"
      ],
      "execution_count": 2,
      "outputs": []
    },
    {
      "cell_type": "markdown",
      "metadata": {
        "id": "bzDqjDlKTl6t"
      },
      "source": [
        "Feature extraction for training data"
      ]
    },
    {
      "cell_type": "code",
      "metadata": {
        "colab": {
          "base_uri": "https://localhost:8080/",
          "height": 415
        },
        "id": "MKDnKo1_UUc0",
        "outputId": "f8632e9f-3cc4-4d09-9e22-21ddef768624"
      },
      "source": [
        "x1_data=np.mean(xtrain_df,axis=1)\r\n",
        "x1_data.name='mean'\r\n",
        "x2_data=np.std(xtrain_df,axis=1)\r\n",
        "x2_data.name='std'\r\n",
        "feature_data=pd.merge(x1_data,x2_data,right_index = True, left_index = True)\r\n",
        "feature_data"
      ],
      "execution_count": 3,
      "outputs": [
        {
          "output_type": "execute_result",
          "data": {
            "text/html": [
              "<div>\n",
              "<style scoped>\n",
              "    .dataframe tbody tr th:only-of-type {\n",
              "        vertical-align: middle;\n",
              "    }\n",
              "\n",
              "    .dataframe tbody tr th {\n",
              "        vertical-align: top;\n",
              "    }\n",
              "\n",
              "    .dataframe thead th {\n",
              "        text-align: right;\n",
              "    }\n",
              "</style>\n",
              "<table border=\"1\" class=\"dataframe\">\n",
              "  <thead>\n",
              "    <tr style=\"text-align: right;\">\n",
              "      <th></th>\n",
              "      <th>mean</th>\n",
              "      <th>std</th>\n",
              "    </tr>\n",
              "  </thead>\n",
              "  <tbody>\n",
              "    <tr>\n",
              "      <th>0</th>\n",
              "      <td>0.423159</td>\n",
              "      <td>0.395417</td>\n",
              "    </tr>\n",
              "    <tr>\n",
              "      <th>1</th>\n",
              "      <td>0.143367</td>\n",
              "      <td>0.194897</td>\n",
              "    </tr>\n",
              "    <tr>\n",
              "      <th>2</th>\n",
              "      <td>0.306057</td>\n",
              "      <td>0.407228</td>\n",
              "    </tr>\n",
              "    <tr>\n",
              "      <th>3</th>\n",
              "      <td>0.347949</td>\n",
              "      <td>0.332871</td>\n",
              "    </tr>\n",
              "    <tr>\n",
              "      <th>4</th>\n",
              "      <td>0.369848</td>\n",
              "      <td>0.374355</td>\n",
              "    </tr>\n",
              "    <tr>\n",
              "      <th>...</th>\n",
              "      <td>...</td>\n",
              "      <td>...</td>\n",
              "    </tr>\n",
              "    <tr>\n",
              "      <th>11995</th>\n",
              "      <td>0.168517</td>\n",
              "      <td>0.255543</td>\n",
              "    </tr>\n",
              "    <tr>\n",
              "      <th>11996</th>\n",
              "      <td>0.328006</td>\n",
              "      <td>0.362793</td>\n",
              "    </tr>\n",
              "    <tr>\n",
              "      <th>11997</th>\n",
              "      <td>0.179372</td>\n",
              "      <td>0.274561</td>\n",
              "    </tr>\n",
              "    <tr>\n",
              "      <th>11998</th>\n",
              "      <td>0.189001</td>\n",
              "      <td>0.325558</td>\n",
              "    </tr>\n",
              "    <tr>\n",
              "      <th>11999</th>\n",
              "      <td>0.213891</td>\n",
              "      <td>0.364859</td>\n",
              "    </tr>\n",
              "  </tbody>\n",
              "</table>\n",
              "<p>12000 rows × 2 columns</p>\n",
              "</div>"
            ],
            "text/plain": [
              "           mean       std\n",
              "0      0.423159  0.395417\n",
              "1      0.143367  0.194897\n",
              "2      0.306057  0.407228\n",
              "3      0.347949  0.332871\n",
              "4      0.369848  0.374355\n",
              "...         ...       ...\n",
              "11995  0.168517  0.255543\n",
              "11996  0.328006  0.362793\n",
              "11997  0.179372  0.274561\n",
              "11998  0.189001  0.325558\n",
              "11999  0.213891  0.364859\n",
              "\n",
              "[12000 rows x 2 columns]"
            ]
          },
          "metadata": {
            "tags": []
          },
          "execution_count": 3
        }
      ]
    },
    {
      "cell_type": "markdown",
      "metadata": {
        "id": "Lj1NIEzTdxN_"
      },
      "source": [
        "Adding corresponding class labels for train data"
      ]
    },
    {
      "cell_type": "code",
      "metadata": {
        "colab": {
          "base_uri": "https://localhost:8080/",
          "height": 415
        },
        "id": "odtAwGL_d3XE",
        "outputId": "2f1fff01-af01-410e-8b37-028e4ff4d63a"
      },
      "source": [
        "labels=pd.DataFrame(Ytrain)\r\n",
        "feature_data['label']=pd.DataFrame(labels.T)\r\n",
        "feature_data"
      ],
      "execution_count": 4,
      "outputs": [
        {
          "output_type": "execute_result",
          "data": {
            "text/html": [
              "<div>\n",
              "<style scoped>\n",
              "    .dataframe tbody tr th:only-of-type {\n",
              "        vertical-align: middle;\n",
              "    }\n",
              "\n",
              "    .dataframe tbody tr th {\n",
              "        vertical-align: top;\n",
              "    }\n",
              "\n",
              "    .dataframe thead th {\n",
              "        text-align: right;\n",
              "    }\n",
              "</style>\n",
              "<table border=\"1\" class=\"dataframe\">\n",
              "  <thead>\n",
              "    <tr style=\"text-align: right;\">\n",
              "      <th></th>\n",
              "      <th>mean</th>\n",
              "      <th>std</th>\n",
              "      <th>label</th>\n",
              "    </tr>\n",
              "  </thead>\n",
              "  <tbody>\n",
              "    <tr>\n",
              "      <th>0</th>\n",
              "      <td>0.423159</td>\n",
              "      <td>0.395417</td>\n",
              "      <td>0.0</td>\n",
              "    </tr>\n",
              "    <tr>\n",
              "      <th>1</th>\n",
              "      <td>0.143367</td>\n",
              "      <td>0.194897</td>\n",
              "      <td>0.0</td>\n",
              "    </tr>\n",
              "    <tr>\n",
              "      <th>2</th>\n",
              "      <td>0.306057</td>\n",
              "      <td>0.407228</td>\n",
              "      <td>0.0</td>\n",
              "    </tr>\n",
              "    <tr>\n",
              "      <th>3</th>\n",
              "      <td>0.347949</td>\n",
              "      <td>0.332871</td>\n",
              "      <td>0.0</td>\n",
              "    </tr>\n",
              "    <tr>\n",
              "      <th>4</th>\n",
              "      <td>0.369848</td>\n",
              "      <td>0.374355</td>\n",
              "      <td>0.0</td>\n",
              "    </tr>\n",
              "    <tr>\n",
              "      <th>...</th>\n",
              "      <td>...</td>\n",
              "      <td>...</td>\n",
              "      <td>...</td>\n",
              "    </tr>\n",
              "    <tr>\n",
              "      <th>11995</th>\n",
              "      <td>0.168517</td>\n",
              "      <td>0.255543</td>\n",
              "      <td>1.0</td>\n",
              "    </tr>\n",
              "    <tr>\n",
              "      <th>11996</th>\n",
              "      <td>0.328006</td>\n",
              "      <td>0.362793</td>\n",
              "      <td>1.0</td>\n",
              "    </tr>\n",
              "    <tr>\n",
              "      <th>11997</th>\n",
              "      <td>0.179372</td>\n",
              "      <td>0.274561</td>\n",
              "      <td>1.0</td>\n",
              "    </tr>\n",
              "    <tr>\n",
              "      <th>11998</th>\n",
              "      <td>0.189001</td>\n",
              "      <td>0.325558</td>\n",
              "      <td>1.0</td>\n",
              "    </tr>\n",
              "    <tr>\n",
              "      <th>11999</th>\n",
              "      <td>0.213891</td>\n",
              "      <td>0.364859</td>\n",
              "      <td>1.0</td>\n",
              "    </tr>\n",
              "  </tbody>\n",
              "</table>\n",
              "<p>12000 rows × 3 columns</p>\n",
              "</div>"
            ],
            "text/plain": [
              "           mean       std  label\n",
              "0      0.423159  0.395417    0.0\n",
              "1      0.143367  0.194897    0.0\n",
              "2      0.306057  0.407228    0.0\n",
              "3      0.347949  0.332871    0.0\n",
              "4      0.369848  0.374355    0.0\n",
              "...         ...       ...    ...\n",
              "11995  0.168517  0.255543    1.0\n",
              "11996  0.328006  0.362793    1.0\n",
              "11997  0.179372  0.274561    1.0\n",
              "11998  0.189001  0.325558    1.0\n",
              "11999  0.213891  0.364859    1.0\n",
              "\n",
              "[12000 rows x 3 columns]"
            ]
          },
          "metadata": {
            "tags": []
          },
          "execution_count": 4
        }
      ]
    },
    {
      "cell_type": "markdown",
      "metadata": {
        "id": "4uEBDfjXe5N7"
      },
      "source": [
        "Finding mean for each class"
      ]
    },
    {
      "cell_type": "code",
      "metadata": {
        "colab": {
          "base_uri": "https://localhost:8080/"
        },
        "id": "L4a_XufHfxy6",
        "outputId": "7532cca6-bcbc-4b3c-898e-87fb56c80fcd"
      },
      "source": [
        "class0=feature_data.loc[feature_data['label']==0]\r\n",
        "class1=feature_data.loc[feature_data['label']==1]\r\n",
        "class0_means=[0,0]\r\n",
        "class1_means=[0,0]\r\n",
        "class0_means[0]=class0['mean'].mean()\r\n",
        "class0_means[1]=class0['std'].mean()\r\n",
        "class0_means\r\n",
        "class1_means[0]=class1['mean'].mean()\r\n",
        "class1_means[1]=class1['std'].mean()\r\n",
        "class1_means\r\n"
      ],
      "execution_count": 5,
      "outputs": [
        {
          "output_type": "execute_result",
          "data": {
            "text/plain": [
              "[0.22290531462584984, 0.33394171202721934]"
            ]
          },
          "metadata": {
            "tags": []
          },
          "execution_count": 5
        }
      ]
    },
    {
      "cell_type": "markdown",
      "metadata": {
        "id": "2Bbhb_M3hfJC"
      },
      "source": [
        "Finding variance for each class"
      ]
    },
    {
      "cell_type": "code",
      "metadata": {
        "colab": {
          "base_uri": "https://localhost:8080/"
        },
        "id": "0Pz_LENShiPT",
        "outputId": "a7e31330-d9d0-4469-da1c-63d12db2aca0"
      },
      "source": [
        "class0_var=[0,0]\r\n",
        "class1_var=[0,0]\r\n",
        "class0_var[0]=class0['mean'].var()\r\n",
        "class0_var[1]=class0['std'].var()\r\n",
        "class0_var\r\n",
        "class1_var[0]=class1['mean'].var()\r\n",
        "class1_var[1]=class1['std'].var()\r\n",
        "class1_var"
      ],
      "execution_count": 6,
      "outputs": [
        {
          "output_type": "execute_result",
          "data": {
            "text/plain": [
              "[0.003243958057139923, 0.0032532239122850352]"
            ]
          },
          "metadata": {
            "tags": []
          },
          "execution_count": 6
        }
      ]
    },
    {
      "cell_type": "markdown",
      "metadata": {
        "id": "KjRb6g-BiC5X"
      },
      "source": [
        "Setting prior value"
      ]
    },
    {
      "cell_type": "code",
      "metadata": {
        "id": "3ncMk5FgiGFh"
      },
      "source": [
        "prior=0.5"
      ],
      "execution_count": 7,
      "outputs": []
    },
    {
      "cell_type": "markdown",
      "metadata": {
        "id": "oKX8shzMiKvp"
      },
      "source": [
        "PDF function"
      ]
    },
    {
      "cell_type": "code",
      "metadata": {
        "id": "iBs71mwXiO4K"
      },
      "source": [
        "def pdf(x , mean,var):\r\n",
        "    return (1.0 / (math.sqrt(2*math.pi*var)) * math.exp(-0.5*((x - mean)** 2 / var) ))"
      ],
      "execution_count": 8,
      "outputs": []
    },
    {
      "cell_type": "markdown",
      "metadata": {
        "id": "U8irAgNmiVyO"
      },
      "source": [
        "Applying PDF function to predict label for train data"
      ]
    },
    {
      "cell_type": "code",
      "metadata": {
        "id": "Njn7jDSTjAK9"
      },
      "source": [
        "pred_df = pd.DataFrame(columns = ['Pred_label'])\r\n",
        "for i in range(feature_data.shape[0]):\r\n",
        "    class0_prob = pdf(feature_data['mean'][i],class0_means[0],class0_var[0])*pdf(feature_data['std'][i],class0_means[1],class0_var[1])*prior\r\n",
        "    class1_prob = pdf(feature_data['mean'][i],class1_means[0],class1_var[0])*pdf(feature_data['std'][i],class1_means[1],class1_var[1])*prior\r\n",
        "    \r\n",
        "    if class0_prob > class1_prob:\r\n",
        "        pred_df.loc[i, 'Pred_label'] = 0.0\r\n",
        "    else:\r\n",
        "        pred_df.loc[i, 'Pred_label'] = 1.0"
      ],
      "execution_count": 15,
      "outputs": []
    },
    {
      "cell_type": "code",
      "metadata": {
        "id": "kWYaef_uk6HQ"
      },
      "source": [
        "pred_df['Pred_label']= pred_df.Pred_label.astype(float)"
      ],
      "execution_count": 13,
      "outputs": []
    },
    {
      "cell_type": "markdown",
      "metadata": {
        "id": "I6LI1BcLk-O_"
      },
      "source": [
        "Checking accuracy on train data"
      ]
    },
    {
      "cell_type": "code",
      "metadata": {
        "colab": {
          "base_uri": "https://localhost:8080/"
        },
        "id": "u9Hw_DKzlJ6E",
        "outputId": "061a7424-31b2-4c9b-dca8-3eb3c4ba2669"
      },
      "source": [
        "accuracy_score(feature_data['label'], pred_df['Pred_label'])\r\n"
      ],
      "execution_count": 14,
      "outputs": [
        {
          "output_type": "execute_result",
          "data": {
            "text/plain": [
              "0.8238333333333333"
            ]
          },
          "metadata": {
            "tags": []
          },
          "execution_count": 14
        }
      ]
    },
    {
      "cell_type": "markdown",
      "metadata": {
        "id": "KgjG7wB3lhJZ"
      },
      "source": [
        "Transforming Test data"
      ]
    },
    {
      "cell_type": "code",
      "metadata": {
        "colab": {
          "base_uri": "https://localhost:8080/",
          "height": 415
        },
        "id": "xMBwJSdMlypZ",
        "outputId": "aeec43d8-8e0e-4808-dd8e-713231e54f53"
      },
      "source": [
        "Xtest = data['tsX']\r\n",
        "Ytest = data['tsY']\r\n",
        "xtest_df = pd.DataFrame(Xtest)\r\n",
        "x1_test=np.mean(xtest_df,axis=1)\r\n",
        "x1_test.name='mean'\r\n",
        "x2_test=np.std(xtest_df,axis=1)\r\n",
        "x2_test.name='std'\r\n",
        "test_data=pd.merge(x1_test,x2_test,right_index = True, left_index = True)\r\n",
        "test_labels=pd.DataFrame(Ytest)\r\n",
        "test_data['label']=pd.DataFrame(test_labels.T)\r\n",
        "test_data\r\n"
      ],
      "execution_count": 16,
      "outputs": [
        {
          "output_type": "execute_result",
          "data": {
            "text/html": [
              "<div>\n",
              "<style scoped>\n",
              "    .dataframe tbody tr th:only-of-type {\n",
              "        vertical-align: middle;\n",
              "    }\n",
              "\n",
              "    .dataframe tbody tr th {\n",
              "        vertical-align: top;\n",
              "    }\n",
              "\n",
              "    .dataframe thead th {\n",
              "        text-align: right;\n",
              "    }\n",
              "</style>\n",
              "<table border=\"1\" class=\"dataframe\">\n",
              "  <thead>\n",
              "    <tr style=\"text-align: right;\">\n",
              "      <th></th>\n",
              "      <th>mean</th>\n",
              "      <th>std</th>\n",
              "      <th>label</th>\n",
              "    </tr>\n",
              "  </thead>\n",
              "  <tbody>\n",
              "    <tr>\n",
              "      <th>0</th>\n",
              "      <td>0.225665</td>\n",
              "      <td>0.222569</td>\n",
              "      <td>0.0</td>\n",
              "    </tr>\n",
              "    <tr>\n",
              "      <th>1</th>\n",
              "      <td>0.114816</td>\n",
              "      <td>0.221261</td>\n",
              "      <td>1.0</td>\n",
              "    </tr>\n",
              "    <tr>\n",
              "      <th>2</th>\n",
              "      <td>0.164591</td>\n",
              "      <td>0.263742</td>\n",
              "      <td>1.0</td>\n",
              "    </tr>\n",
              "    <tr>\n",
              "      <th>3</th>\n",
              "      <td>0.358593</td>\n",
              "      <td>0.424441</td>\n",
              "      <td>1.0</td>\n",
              "    </tr>\n",
              "    <tr>\n",
              "      <th>4</th>\n",
              "      <td>0.190886</td>\n",
              "      <td>0.293430</td>\n",
              "      <td>1.0</td>\n",
              "    </tr>\n",
              "    <tr>\n",
              "      <th>...</th>\n",
              "      <td>...</td>\n",
              "      <td>...</td>\n",
              "      <td>...</td>\n",
              "    </tr>\n",
              "    <tr>\n",
              "      <th>1995</th>\n",
              "      <td>0.096439</td>\n",
              "      <td>0.170104</td>\n",
              "      <td>1.0</td>\n",
              "    </tr>\n",
              "    <tr>\n",
              "      <th>1996</th>\n",
              "      <td>0.233683</td>\n",
              "      <td>0.383631</td>\n",
              "      <td>1.0</td>\n",
              "    </tr>\n",
              "    <tr>\n",
              "      <th>1997</th>\n",
              "      <td>0.217972</td>\n",
              "      <td>0.341390</td>\n",
              "      <td>1.0</td>\n",
              "    </tr>\n",
              "    <tr>\n",
              "      <th>1998</th>\n",
              "      <td>0.175030</td>\n",
              "      <td>0.166916</td>\n",
              "      <td>0.0</td>\n",
              "    </tr>\n",
              "    <tr>\n",
              "      <th>1999</th>\n",
              "      <td>0.241417</td>\n",
              "      <td>0.374308</td>\n",
              "      <td>1.0</td>\n",
              "    </tr>\n",
              "  </tbody>\n",
              "</table>\n",
              "<p>2000 rows × 3 columns</p>\n",
              "</div>"
            ],
            "text/plain": [
              "          mean       std  label\n",
              "0     0.225665  0.222569    0.0\n",
              "1     0.114816  0.221261    1.0\n",
              "2     0.164591  0.263742    1.0\n",
              "3     0.358593  0.424441    1.0\n",
              "4     0.190886  0.293430    1.0\n",
              "...        ...       ...    ...\n",
              "1995  0.096439  0.170104    1.0\n",
              "1996  0.233683  0.383631    1.0\n",
              "1997  0.217972  0.341390    1.0\n",
              "1998  0.175030  0.166916    0.0\n",
              "1999  0.241417  0.374308    1.0\n",
              "\n",
              "[2000 rows x 3 columns]"
            ]
          },
          "metadata": {
            "tags": []
          },
          "execution_count": 16
        }
      ]
    },
    {
      "cell_type": "markdown",
      "metadata": {
        "id": "dtuBkEVinBkf"
      },
      "source": [
        "Applying naive bayes on test data"
      ]
    },
    {
      "cell_type": "code",
      "metadata": {
        "id": "Nb5DaFVknFO7"
      },
      "source": [
        "testpred_df = pd.DataFrame(columns = ['Pred_label'])\r\n",
        "for i in range(test_data.shape[0]):\r\n",
        "    class0_prob = pdf(test_data['mean'][i],class0_means[0],class0_var[0])*pdf(test_data['std'][i],class0_means[1],class0_var[1])*prior\r\n",
        "    class1_prob = pdf(test_data['mean'][i],class1_means[0],class1_var[0])*pdf(test_data['std'][i],class1_means[1],class1_var[1])*prior\r\n",
        "    \r\n",
        "    if class0_prob > class1_prob:\r\n",
        "        testpred_df.loc[i, 'Pred_label'] = 0.0\r\n",
        "    else:\r\n",
        "        testpred_df.loc[i, 'Pred_label'] = 1.0\r\n"
      ],
      "execution_count": 17,
      "outputs": []
    },
    {
      "cell_type": "code",
      "metadata": {
        "id": "Upo8vx7bokVm"
      },
      "source": [
        "testpred_df['Pred_label']= testpred_df.Pred_label.astype(float)"
      ],
      "execution_count": 18,
      "outputs": []
    },
    {
      "cell_type": "markdown",
      "metadata": {
        "id": "KJsd2VuBnlCd"
      },
      "source": [
        "Checking accuracy on test data"
      ]
    },
    {
      "cell_type": "code",
      "metadata": {
        "colab": {
          "base_uri": "https://localhost:8080/"
        },
        "id": "IZQS-rNrnosr",
        "outputId": "5080eecf-54d4-4d17-ebf0-fb113078b9c8"
      },
      "source": [
        "accuracy_score(test_data['label'], testpred_df['Pred_label'])"
      ],
      "execution_count": 19,
      "outputs": [
        {
          "output_type": "execute_result",
          "data": {
            "text/plain": [
              "0.8315"
            ]
          },
          "metadata": {
            "tags": []
          },
          "execution_count": 19
        }
      ]
    },
    {
      "cell_type": "markdown",
      "metadata": {
        "id": "4KVgTJLjpVyS"
      },
      "source": [
        "Confusion matrix on test data"
      ]
    },
    {
      "cell_type": "code",
      "metadata": {
        "colab": {
          "base_uri": "https://localhost:8080/"
        },
        "id": "M-4g1bf9pZi_",
        "outputId": "62ea9246-8846-4ce5-da39-58be15677c41"
      },
      "source": [
        "confusion_matrix(test_data['label'], testpred_df['Pred_label'])"
      ],
      "execution_count": 20,
      "outputs": [
        {
          "output_type": "execute_result",
          "data": {
            "text/plain": [
              "array([[784, 216],\n",
              "       [121, 879]])"
            ]
          },
          "metadata": {
            "tags": []
          },
          "execution_count": 20
        }
      ]
    },
    {
      "cell_type": "markdown",
      "metadata": {
        "id": "slO2x7dz04Sl"
      },
      "source": [
        "Logistic Regression implementation\r\n"
      ]
    },
    {
      "cell_type": "code",
      "metadata": {
        "id": "DIe2y1z61MWk"
      },
      "source": [
        "def train( Xdata, y, lr, itr ):\r\n",
        "  #intializing weights and bias\r\n",
        "    wt = np.zeros(Xdata.shape[1])\r\n",
        "    bias = 0\r\n",
        "\r\n",
        "    for i in range(itr):\r\n",
        "      \r\n",
        "      #sigmoid calculation\r\n",
        "      ypred = np.dot(wt,Xdata.T) + bias\r\n",
        "      ypred = 1/(1 + np.exp(-ypred))\r\n",
        "\r\n",
        "      pred_error = y-ypred\r\n",
        "      dl = np.average(pred_error*Xdata.T,1)\r\n",
        "\r\n",
        "      #updating weights\r\n",
        "      wt = wt + dl*lr\r\n",
        "\r\n",
        "      #cost function\r\n",
        "      loglikelihood = np.sum(y * np.log(ypred) + (1 - y) * np.log(1 - ypred))\r\n",
        "      \r\n",
        "      #bias update\r\n",
        "      bias  = bias + np.average(pred_error)\r\n",
        "\r\n",
        "    return wt,bias "
      ],
      "execution_count": 26,
      "outputs": []
    },
    {
      "cell_type": "markdown",
      "metadata": {
        "id": "EFofjyA31TxW"
      },
      "source": [
        "Prediction function"
      ]
    },
    {
      "cell_type": "code",
      "metadata": {
        "id": "ekC6icCg1Xay"
      },
      "source": [
        "def predict(Xs, w, bias):\r\n",
        "\r\n",
        "  ypred = np.dot(w,Xs.T) + bias\r\n",
        "\r\n",
        "  #greater than 0.5 label it to 1, else label it to 0\r\n",
        "  ypred[np.where(ypred>=0.5)]=1\r\n",
        "  ypred[np.where(ypred<0.5)]=0\r\n",
        "\r\n",
        "  return ypred"
      ],
      "execution_count": 22,
      "outputs": []
    },
    {
      "cell_type": "markdown",
      "metadata": {
        "id": "RPsPwuac2Dh3"
      },
      "source": [
        "calculating accuracy for logistic regression"
      ]
    },
    {
      "cell_type": "code",
      "metadata": {
        "id": "Dlp1gkEo2MHV"
      },
      "source": [
        "def accuracy(ypred, ygiven):\r\n",
        "  count=0\r\n",
        "  x = ypred == ygiven\r\n",
        "  accuracy = np.sum(x)/ypred.shape[0]\r\n",
        "  accuracy= accuracy*100    \r\n",
        "  return accuracy"
      ],
      "execution_count": 23,
      "outputs": []
    },
    {
      "cell_type": "markdown",
      "metadata": {
        "id": "YaVfP4r7-U2X"
      },
      "source": [
        "Preparing test and training data for logistic regression"
      ]
    },
    {
      "cell_type": "code",
      "metadata": {
        "id": "Jbjg3Zl5-XHB"
      },
      "source": [
        "xtrain_wl = feature_data[['mean','std']]\r\n",
        "xtest_wl = test_data[['mean','std']]"
      ],
      "execution_count": 24,
      "outputs": []
    },
    {
      "cell_type": "markdown",
      "metadata": {
        "id": "gVZiZF-lT7pb"
      },
      "source": [
        "Calculating Accuracy using Logistic regression"
      ]
    },
    {
      "cell_type": "code",
      "metadata": {
        "id": "QgAt9Gh_T-l4",
        "colab": {
          "base_uri": "https://localhost:8080/"
        },
        "outputId": "d2bfd3ff-d62e-49f8-f043-c49f3d76a11a"
      },
      "source": [
        "wt,bias = train(xtrain_wl.to_numpy(), labels.to_numpy(), 3.5, 10000)\r\n",
        "pred_classes = predict(xtest_wl.to_numpy(),wt,bias)\r\n",
        "print(accuracy(pred_classes,test_labels.to_numpy() ))"
      ],
      "execution_count": 56,
      "outputs": [
        {
          "output_type": "stream",
          "text": [
            "92.25\n"
          ],
          "name": "stdout"
        }
      ]
    }
  ]
}